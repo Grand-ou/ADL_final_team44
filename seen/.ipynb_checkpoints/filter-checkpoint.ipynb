{
 "cells": [
  {
   "cell_type": "code",
   "execution_count": 13,
   "metadata": {},
   "outputs": [],
   "source": [
    "import os\n",
    "os.chdir(\"/content/drive/MyDrive/ADL/final_proj\")"
   ]
  },
  {
   "cell_type": "code",
   "execution_count": 2,
   "metadata": {},
   "outputs": [],
   "source": [
    "import pandas as pd\n",
    "from scipy.sparse import csr_matrix\n",
    "from implicit.gpu.als import AlternatingLeastSquares\n",
    "from implicit.gpu.bpr import BayesianPersonalizedRanking\n",
    "from implicit.gpu.matrix_factorization_base import MatrixFactorizationBase\n",
    "from sklearn.neighbors import NearestNeighbors\n",
    "\n",
    "import numpy as np\n",
    "import math\n",
    "import itertools\n",
    "\n",
    "from utils import course_metrics, group_metrics"
   ]
  },
  {
   "cell_type": "code",
   "execution_count": null,
   "metadata": {},
   "outputs": [
    {
     "name": "stderr",
     "output_type": "stream",
     "text": [
      " 68%|███████████████████████████████████████▍                  | 68/100 [06:00<02:51,  5.35s/it, loss=0.00813]"
     ]
    }
   ],
   "source": [
    "df_train = pd.read_csv('../data/train.csv')\n",
    "df_course = pd.read_csv('../data/courses.csv')\n",
    "df_subgroup = pd.read_csv('../data/subgroups.csv')\n",
    "df_val_seen = pd.read_csv('../data/val_seen.csv')\n",
    "df_val_seen_group = pd.read_csv('data/val_seen_group.csv')\n",
    "\n",
    "course2idx = {\n",
    "    id: idx\n",
    "    for (idx, id) in enumerate(df_course['course_id'])\n",
    "}\n",
    "\n",
    "user2idx = {\n",
    "    id: idx\n",
    "    for (idx, id) in enumerate(df_train['user_id'])\n",
    "}\n",
    "num_items = len(course2idx)\n",
    "num_users = len(user2idx)\n",
    "\n",
    "num_records = 0\n",
    "row_ind = []\n",
    "col_ind = []\n",
    "for i in range(num_users):\n",
    "    purch_hist = df_train.iloc[i]['course_id'].split(' ')\n",
    "    num_purch = len(purch_hist)\n",
    "    row_ind += [i]*num_purch\n",
    "    col_ind += [course2idx[i] for i in purch_hist]\n",
    "    num_records += num_purch\n",
    "\n",
    "user_item_data = csr_matrix((np.ones(num_records), (row_ind, col_ind)), shape=(num_users, num_items))"
   ]
  },
  {
   "cell_type": "code",
   "execution_count": 25,
   "metadata": {},
   "outputs": [
    {
     "data": {
      "text/plain": [
       "0.04110272091745021"
      ]
     },
     "execution_count": 27,
     "metadata": {},
     "output_type": "execute_result"
    }
   ],
   "source": [
    "subgroup2idx = {\n",
    "    name: idx\n",
    "    for (name, idx) in zip(df_subgroup['subgroup_name'], df_subgroup['subgroup_id'])\n",
    "}\n",
    "\n",
    "course2subgroup = {}\n",
    "for (idx, subgroup) in enumerate(df_course['sub_groups']):\n",
    "    try:\n",
    "        course2subgroup[idx] = [subgroup2idx[i] for i in subgroup.split(',')]\n",
    "    except:\n",
    "        course2subgroup[idx] = [0]"
   ]
  },
  {
   "cell_type": "markdown",
   "metadata": {},
   "source": [
    "## ALS"
   ]
  },
  {
   "cell_type": "code",
   "execution_count": 16,
   "metadata": {},
   "outputs": [],
   "source": [
    "model_als = AlternatingLeastSquares(\n",
    "    regularization=100,\n",
    "    alpha=1000,\n",
    "    iterations=100000,\n",
    "    random_state=11112224\n",
    ")\n",
    "model_als.fit(user_item_data)"
   ]
  },
  {
   "cell_type": "code",
   "execution_count": 17,
   "metadata": {},
   "outputs": [
    {
     "data": {
      "text/plain": [
       "0.003226639132679401"
      ]
     },
     "execution_count": 17,
     "metadata": {},
     "output_type": "execute_result"
    }
   ],
   "source": [
    "course_metrics(model_als, df_val_seen, user_item_data, course2idx, user2idx)"
   ]
  },
  {
   "cell_type": "code",
   "execution_count": null,
   "metadata": {},
   "outputs": [],
   "source": [
    "group_metrics(model_als, df_val_seen_group, user_item_data, user2idx, course2subgroup)"
   ]
  },
  {
   "cell_type": "markdown",
   "metadata": {},
   "source": [
    "## BPR"
   ]
  },
  {
   "cell_type": "code",
   "execution_count": null,
   "metadata": {},
   "outputs": [],
   "source": [
    "model_bayes = BayesianPersonalizedRanking(\n",
    "    # factors=1000,\n",
    "    # regularization=100,\n",
    "    # learning_rate=1e-4,\n",
    "    iterations=10000,\n",
    "    random_state=11112224,\n",
    "    # verify_negative_samples=False,\n",
    ")\n",
    "model_bayes.fit(user_item_data)"
   ]
  },
  {
   "cell_type": "code",
   "execution_count": null,
   "metadata": {},
   "outputs": [],
   "source": [
    "course_metrics(model_bayes, df_val_seen, user_item_data, course2idx, user2idx)"
   ]
  },
  {
   "cell_type": "code",
   "execution_count": null,
   "metadata": {},
   "outputs": [],
   "source": [
    "group_metrics(model, df_val_seen_group, user_item_data, user2idx, course2subgroup)"
   ]
  },
  {
   "cell_type": "markdown",
   "metadata": {},
   "source": [
    "## KNN"
   ]
  },
  {
   "cell_type": "code",
   "execution_count": null,
   "metadata": {},
   "outputs": [],
   "source": [
    "nbrs = NearestNeighbors(n_neighbors=10, algorithm='auto').fit(user_item_data)\n",
    "distances, indices = nbrs.kneighbors(user_item_data)"
   ]
  },
  {
   "cell_type": "code",
   "execution_count": null,
   "metadata": {},
   "outputs": [],
   "source": [
    "userid = 0\n",
    "pred, score = model.recommend(userid, user_item_data[userid], N=50)\n",
    "pred"
   ]
  }
 ],
 "metadata": {
  "kernelspec": {
   "display_name": "howhow (Python3.8)",
   "language": "python",
   "name": "howhow"
  },
  "language_info": {
   "codemirror_mode": {
    "name": "ipython",
    "version": 3
   },
   "file_extension": ".py",
   "mimetype": "text/x-python",
   "name": "python",
   "nbconvert_exporter": "python",
   "pygments_lexer": "ipython3",
   "version": "3.8.15"
  },
  "vscode": {
   "interpreter": {
    "hash": "aca5102c470cd0500b83c6b7ff8d294e2837b3b764de00c37770f0d9c9ee3246"
   }
  }
 },
 "nbformat": 4,
 "nbformat_minor": 4
}
